{
 "cells": [
  {
   "cell_type": "markdown",
   "metadata": {},
   "source": [
    "For test, only one interation is set.\n",
    "\n",
    "Check the result with 5 interatios below:\n",
    "- [Go to Langsmith](https://smith.langchain.com/public/4a6d5d0f-9b98-4488-b496-d388a6b3eec5/r?runtab=2)"
   ]
  },
  {
   "cell_type": "code",
   "execution_count": 4,
   "metadata": {},
   "outputs": [],
   "source": [
    "from crimson.langchain_reflexion.ui import stream_shortcut\n",
    "from langchain_anthropic import ChatAnthropic\n"
   ]
  },
  {
   "cell_type": "code",
   "execution_count": 5,
   "metadata": {},
   "outputs": [],
   "source": [
    "test = True\n",
    "\n",
    "if test:\n",
    "    max_iterations = 1\n",
    "else:\n",
    "    max_iterations = 5"
   ]
  },
  {
   "cell_type": "code",
   "execution_count": 6,
   "metadata": {},
   "outputs": [
    {
     "name": "stdout",
     "output_type": "stream",
     "text": [
      "Skipping the graph execution.\n"
     ]
    }
   ],
   "source": [
    "# NBVAL_SKIP\n",
    "\n",
    "llm = ChatAnthropic(model=\"claude-3-opus-20240229\")\n",
    "\n",
    "stream_shortcut(\n",
    "    llm=llm,\n",
    "\tquestion=\"What is LangChain?\",\n",
    "    max_iterations=max_iterations,\n",
    "\tskip=True\n",
    ")"
   ]
  }
 ],
 "metadata": {
  "kernelspec": {
   "display_name": "langgraph-reflection",
   "language": "python",
   "name": "python3"
  },
  "language_info": {
   "codemirror_mode": {
    "name": "ipython",
    "version": 3
   },
   "file_extension": ".py",
   "mimetype": "text/x-python",
   "name": "python",
   "nbconvert_exporter": "python",
   "pygments_lexer": "ipython3",
   "version": "3.11.11"
  }
 },
 "nbformat": 4,
 "nbformat_minor": 2
}
