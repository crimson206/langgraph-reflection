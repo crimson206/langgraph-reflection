{
 "cells": [
  {
   "cell_type": "markdown",
   "metadata": {},
   "source": [
    "For test, only one interation is set.\n",
    "\n",
    "Check the result with 5 interatios below:\n",
    "- [Go to Langsmith](https://smith.langchain.com/public/4a6d5d0f-9b98-4488-b496-d388a6b3eec5/r?runtab=2)"
   ]
  },
  {
   "cell_type": "code",
   "execution_count": 1,
   "metadata": {},
   "outputs": [],
   "source": [
    "from crimson.langchain_reflexion.ui import stream_shortcut\n",
    "from langchain_anthropic import ChatAnthropic\n"
   ]
  },
  {
   "cell_type": "code",
   "execution_count": 2,
   "metadata": {},
   "outputs": [],
   "source": [
    "test = True\n",
    "\n",
    "if test:\n",
    "    max_iterations = 1\n",
    "else:\n",
    "    max_iterations = 5"
   ]
  },
  {
   "cell_type": "code",
   "execution_count": 3,
   "metadata": {},
   "outputs": [
    {
     "name": "stdout",
     "output_type": "stream",
     "text": [
      "Step 0\n",
      "================================\u001b[1m Human Message \u001b[0m=================================\n",
      "\n",
      "What is LangChain?\n",
      "Step 1\n",
      "==================================\u001b[1m Ai Message \u001b[0m==================================\n",
      "\n",
      "[{'text': \"Certainly! I'll answer the question about LangChain using the AnswerQuestion function.\", 'type': 'text'}, {'id': 'toolu_019qm71QaTPViQixnd9U972C', 'input': {'answer': \"LangChain is an open-source framework designed to simplify the development of applications using large language models (LLMs). Created by Harrison Chase in October 2022, LangChain has quickly gained popularity in the AI development community. It provides a set of tools and abstractions that make it easier to build complex, context-aware AI applications.\\n\\nLangChain's primary goal is to enable developers to create AI-powered applications that can understand, reason about, and generate human-like text based on given contexts and prompts. It achieves this by offering a range of components and integrations that can be combined to create powerful AI workflows.\\n\\nKey features of LangChain include:\\n\\n1. Prompt management: Tools for creating, organizing, and optimizing prompts for LLMs.\\n2. Chain of thought: Ability to break down complex tasks into smaller, manageable steps.\\n3. Memory: Mechanisms to maintain context and information across multiple interactions.\\n4. Agents: Autonomous AI entities that can make decisions and take actions.\\n5. Integration with various LLMs: Support for models like GPT-3, GPT-4, and others.\\n6. Document loaders and indexing: Tools for processing and querying large amounts of text data.\\n7. Evaluation and testing: Frameworks for assessing and improving AI model performance.\\n\\nLangChain is particularly useful for building chatbots, question-answering systems, document analysis tools, and other AI-powered applications that require sophisticated language understanding and generation capabilities.\", 'reflection': {'missing': \"The answer lacks specific examples of LangChain applications and use cases. It doesn't mention the programming languages supported by LangChain or discuss its limitations. The explanation of how LangChain interacts with external data sources or APIs is also missing. Additionally, there's no comparison with other similar frameworks or tools in the AI development space.\", 'superfluous': 'The mention of Harrison Chase as the creator and the specific creation date (October 2022) might be considered superfluous for a general overview of LangChain. The list of key features, while informative, could be more concise to allow room for other important aspects of LangChain.'}, 'search_queries': ['LangChain practical applications and real-world use cases', 'LangChain supported programming languages and technical requirements', 'Comparison of LangChain with other AI development frameworks like Hugging Face Transformers']}, 'name': 'AnswerQuestion', 'type': 'tool_use'}]\n",
      "Tool Calls:\n",
      "  AnswerQuestion (toolu_019qm71QaTPViQixnd9U972C)\n",
      " Call ID: toolu_019qm71QaTPViQixnd9U972C\n",
      "  Args:\n",
      "    answer: LangChain is an open-source framework designed to simplify the development of applications using large language models (LLMs). Created by Harrison Chase in October 2022, LangChain has quickly gained popularity in the AI development community. It provides a set of tools and abstractions that make it easier to build complex, context-aware AI applications.\n",
      "\n",
      "LangChain's primary goal is to enable developers to create AI-powered applications that can understand, reason about, and generate human-like text based on given contexts and prompts. It achieves this by offering a range of components and integrations that can be combined to create powerful AI workflows.\n",
      "\n",
      "Key features of LangChain include:\n",
      "\n",
      "1. Prompt management: Tools for creating, organizing, and optimizing prompts for LLMs.\n",
      "2. Chain of thought: Ability to break down complex tasks into smaller, manageable steps.\n",
      "3. Memory: Mechanisms to maintain context and information across multiple interactions.\n",
      "4. Agents: Autonomous AI entities that can make decisions and take actions.\n",
      "5. Integration with various LLMs: Support for models like GPT-3, GPT-4, and others.\n",
      "6. Document loaders and indexing: Tools for processing and querying large amounts of text data.\n",
      "7. Evaluation and testing: Frameworks for assessing and improving AI model performance.\n",
      "\n",
      "LangChain is particularly useful for building chatbots, question-answering systems, document analysis tools, and other AI-powered applications that require sophisticated language understanding and generation capabilities.\n",
      "    reflection: {'missing': \"The answer lacks specific examples of LangChain applications and use cases. It doesn't mention the programming languages supported by LangChain or discuss its limitations. The explanation of how LangChain interacts with external data sources or APIs is also missing. Additionally, there's no comparison with other similar frameworks or tools in the AI development space.\", 'superfluous': 'The mention of Harrison Chase as the creator and the specific creation date (October 2022) might be considered superfluous for a general overview of LangChain. The list of key features, while informative, could be more concise to allow room for other important aspects of LangChain.'}\n",
      "    search_queries: ['LangChain practical applications and real-world use cases', 'LangChain supported programming languages and technical requirements', 'Comparison of LangChain with other AI development frameworks like Hugging Face Transformers']\n",
      "Step 2\n",
      "=================================\u001b[1m Tool Message \u001b[0m=================================\n",
      "Name: AnswerQuestion\n",
      "\n",
      "[[{\"title\": \"8 Use Cases of LangChain - Airbyte\", \"url\": \"https://airbyte.com/data-engineering-resources/langchain-use-cases\", \"content\": \"LangChain is a robust framework that lets you design complex LLM applications with advantages in a wide range of domains. Some of the most common LangChain use cases include building a chatbot, text summarizer, and AI agent. [...] In many real-world applications, data resides in tabular form. Querying this data can enable you to extract useful insights and create strategies that improve business performance. LangChain provides the capabilities to perform operations on this data using natural language, making querying tabular data one of the essential LangChain use cases.\\nHere’s how you can query tabular data using LangChain and San Francisco Trees Data.\\nYou must import the required libraries: [...] If you are wondering how LangChain can help you develop AI applications, you have come to the right place. This article highlights the most popular LangChain use cases to help you build your AI-powered applications.\\n8 Amazing LangChain Use Cases\\nLangChain is a powerful framework for building applications that leverage the capabilities of robust large language models (LLMs). Let’s examine its use cases and how they can be used to create, test, and deploy applications.\", \"score\": 0.7819217903225807}, {\"title\": \"What is LangChain? Key Features, Tools, and Use Cases\", \"url\": \"https://datasciencedojo.com/blog/what-is-langchain/\", \"content\": \"In this blog, we will explore what is LangChain, its key features, benefits, and practical use cases. We will also delve into related tools like LlamaIndex, LangGraph, and LangSmith to provide a comprehensive understanding of this powerful framework.\\nWhat is LangChain?\\nLangChain is an innovative open-source framework crafted for developing powerful applications using LLMs. These advanced AI systems, trained on massive datasets, can produce human-like text with remarkable accuracy. [...] They used both LangChain and LangSmith to accelerate development and enhance the quality of their AI-powered products. The integration allowed Elastic AI Assistant to manage complex workflows and deliver a superior product experience to their customers highlighting the impact of LangChain in real-world applications to streamline operations and optimize performance. [...] Both frameworks offer unique strengths, and understanding these can help developers align their needs with the right tool, leading to the construction of more efficient, powerful, and accurate LLM-powered applications.\\nRead more about the role of LlamaIndex and LangChain in orchestrating LLMs\\nReal-World Examples and Case Studies\\nLet’s look at some examples and use cases of LangChain in today’s digital world.\\nCustomer Service\", \"score\": 0.7493150731720429}, {\"title\": \"Use cases with Langchain - Medium\", \"url\": \"https://medium.com/@ebruboyaci/use-cases-with-langchain-e0fd5b0587f1\", \"content\": \"Summarization allows us to summarize various types of text, be it calls, articles, books, academic papers, legal documents, user history, tables, or financial documents. Having such a versatile tool that quickly provides concise summaries is incredibly helpful. Additionally, LangChain promises to take us on a deep dive into this feature soon, and it offers practical examples like summarizing B2B sales calls. The range of use cases is impressive, from summarizing articles, transcripts, chat [...] Today I introduce LangChain, an outstanding platform made especially for language models, and its use cases. With LangChain we can easily replace components by seamlessly integrating various elements into our applications. Offering customizable chains, allows us to tailor actions for specific use cases and empowers us to fine-tune our language models effectively. And the best part is the team’s relentless pace of development, which ensures we always have access to the latest features and\", \"score\": 0.7244228143548387}, {\"title\": \"Developing AI Agents Using LangChain: Practical Use Cases\", \"url\": \"https://blog.stackademic.com/developing-ai-agents-using-langchain-practical-use-cases-437d88f7a647\", \"content\": \"During my exploration of practical applications for Large Language Models (LLMs) and AI agents, I identified an interesting use case: managing guest experiences at self-service accommodations. Specifically, I noticed that frontdesk-less hotels and temporary rentals often struggle with providing clear access instructions and ongoing support to guests. My goal is to design an agent using LangChain that will streamline the guest onboarding process and enhance the overall stay experience at [...] The API Service (Backend): Running on Flask, our Python backend handles all the intelligent processing. It manages the LangChain agents, processes guest queries, and interacts with our vector store. Using Docker volumes, it enables real-time code updates during development, making it easier to customize and extend the functionality. [...] Use Case: Managing Guest Experiences\\nAutomating Check-In Instructions Provide guests with step-by-step access instructions, including lockbox codes or digital key setups.\\nAnswering Common Questions Handle frequent guest queries, such as Wi-Fi information, house rules, or nearby attractions.\\nPersonalized Recommendations Suggest local restaurants, activities, or events based on guest preferences.\", \"score\": 0.6982185722580646}], [{\"title\": \"Step-by-Step Guide to Using LangChain for AI Projects - TiDB\", \"url\": \"https://www.pingcap.com/article/step-by-step-guide-to-using-langchain-for-ai-projects/\", \"content\": \"Python 3.8 or higher: Python is the primary programming language for LangChain. Make sure you have the latest version installed. Download Python\\nJupyter Notebook: This interactive environment is highly recommended for writing and running your code. Install Jupyter\\nGit: Version control is crucial for managing your project files. Download Git\\nA TiDB Serverless cluster: For database operations, you will need access to a TiDB Serverless cluster. Create a TiDB Serverless cluster [...] Choosing the right AI models is a pivotal step in your project planning. LangChain supports various large language models (LLMs), each with unique strengths and applications. For example, if your project involves natural language understanding, models like GPT-3 or BERT might be suitable. Conversely, for tasks requiring text generation, models like OpenAI’s GPT series could be more appropriate. Evaluate the capabilities of different models and select the one that best aligns with your project [...] Install Required Packages:\\n    Use pip to install LangChain and other necessary packages.\\nbash\\npip install langchain langchain-communitypip install langchain-openaipip install pymysqlpip install tidb-vector\\n\\n\\nVerify Installation:\\n    Ensure that all packages are installed correctly by importing them in a Python script or Jupyter Notebook.\\npython\\nimport langchainimport pymysqlimport tidb_vector\", \"score\": 0.7194067784803923}, {\"title\": \"What Is LangChain and How to Use It: A Guide - TechTarget\", \"url\": \"https://www.techtarget.com/searchenterpriseai/definition/LangChain\", \"content\": \"LangChain aims to link powerful LLMs, such as OpenAI's GPT-3.5 and GPT-4, to an array of external data sources to create and reap the benefits of natural language processing (NLP) applications. It's also used for creating interfaces that produce humanlike responses and answer questions.\\nDevelopers, software engineers and data scientists with experience in Python, JavaScript or TypeScript programming languages can use LangChain packages offered in those languages. [...] Add integrations. LangChain typically requires at least one integration. OpenAI is a prime example. To use OpenAI's LLM application programming interfaces, a developer must create an account on the OpenAI website and retrieve the API access key. Then, using the following code snippet, install OpenAI's Python package and enter the key for access to the APIs:\\n\\npip install openai\\nfrom langchain.llms import OpenAI\\nllm = OpenAI(openai_api_key=\\\"...\\\") [...] Retrieval modules. LangChain supports the development of RAG systems with tools for transforming, storing and retrieving information to enhance language model responses. This enables developers to produce semantic representations with word embeddings and store them in local or cloud-based vector databases.\", \"score\": 0.7184162195751634}, {\"title\": \"LangChain\", \"url\": \"https://www.langchain.com/\", \"content\": \"Products\\nLangChainLangSmithLangGraph\\nMethods\\nRetrievalAgentsEvaluation\\nResources\\nBlogCustomer StoriesLangChain AcademyCommunityExpertsChangelogLLM Evaluations GuideState of AI AgentsBreakout Agent Stories\\nDocs\\nPython\\nLangChainLangSmithLangGraph\\nJavaScript\\nLangChainLangSmithLangGraph\\nCompany\\nAboutCareers\\nPricing\\nLangSmithLangGraph Platform\\nGet a demo\\nSign up\\nLangChain’s suite of products supports developers along each step of the LLM application lifecycle. [...] Reduce hallucinations and improve reliability.\\nEnterprise deployment options to keep data secure.\\nReady to start shipping  reliable GenAI apps faster?\\nGet started with LangChain, LangSmith, and LangGraph to enhance your LLM app development, from prototype to production.\\nGet a demoSign up for free\\nProducts\\nLangChainLangSmithLangGraphAgentsEvaluationRetrieval\\nResources\\nPython DocsJS/TS DocsGitHubIntegrationsChangelogCommunityLangSmith Trust Portal\\nCompany [...] LangChain\\n\\nProducts\\nLangChainLangSmithLangGraph\\nMethods\\nRetrievalAgentsEvaluation\\nResources\\nBlogCustomer StoriesLangChain AcademyCommunityExpertsChangelogLLM Evaluations GuideState of AI AgentsBreakout Agent Stories\\nDocs\\nPython\\nLangChainLangSmithLangGraph\\nJavaScript\\nLangChainLangSmithLangGraph\\nCompany\\nAboutCareers\\nPricing\\nLangSmithLangGraph Platform\\nGet a demo\\nSign up\", \"score\": 0.5834439538398694}, {\"title\": \"Introduction | 🦜️   LangChain\", \"url\": \"https://python.langchain.com/docs/introduction/\", \"content\": \"LangChain implements a standard interface for large language models and related technologies, such as embedding models and vector stores, and integrates with hundreds of providers. See the integrations page for more.\\nSelect chat model:\\nGroq▾\\n\\nGroq\\nOpenAI\\nAnthropic\\nAzure\\nGoogle Vertex\\nAWS\\nCohere\\nNVIDIA\\nFireworks AI\\nMistral AI\\nTogether AI\\nDatabricks [...] LangChain is part of a rich ecosystem of tools that integrate with our framework and build on top of it. If you're looking to get up and running quickly with chat models, vector stores, or other LangChain components from a specific provider, check out our growing list of integrations.\\nAPI reference​\\nHead to the reference section for full documentation of all classes and methods in the LangChain Python packages.\\nEcosystem​\\n🦜🛠️ LangSmith​ [...] Introduction\\nLangChain is a framework for developing applications powered by large language models (LLMs).\\nLangChain simplifies every stage of the LLM application lifecycle:\", \"score\": 0.5293848642156863}], [{\"title\": \"LangChain vs Hugging Face: A Comparison — Restack\", \"url\": \"https://www.restack.io/docs/langchain-knowledge-langchain-vs-huggingface-comparison\", \"content\": \"Comparing LangChain and Hugging Face reveals distinct approaches to LLM integration and deployment. LangChain's focus on chaining models and external data sources offers a unique advantage for building complex, context-aware applications. On the other hand, Hugging Face excels in providing a vast repository of models and a community-driven approach to model sharing and development.\\nDeployment Strategies [...] Hugging Face, on the other hand, is renowned for its vast repository of pre-trained models and datasets, along with the Transformers library, which simplifies the use of LLMs across various programming languages. The synergy between LangChain and Hugging Face can be seen in how developers leverage Hugging Face's models within LangChain's framework to create robust LLM applications. [...] LangChain and Hugging Face represent two pivotal entities in the realm of Large Language Models (LLMs), each offering unique frameworks and tools for developers. LangChain, with its suite of open-source libraries such as langchain-core, langchain-community, and langchain, provides a comprehensive ecosystem for building, deploying, and managing LLM applications. It emphasizes the integration of LLMs into complex, stateful applications through components like LangGraph and LangServe, enabling the\", \"score\": 0.8302000735655057}, {\"title\": \"Hugging Face VS Langchain: A Comparative Analysis\", \"url\": \"https://www.langchain.ca/blog/hugging-face-vs-langchain-a-comparative-analysis/\", \"content\": \"Hugging Face acts as a treasure trove of AI models ready to be deployed, while Langchain offers the framework necessary for integrating these models into real-\", \"score\": 0.8157122469651741}, {\"title\": \"LangChain vs. Transformers Agent: A Comparative Analysis\", \"url\": \"https://www.signitysolutions.com/blog/langchain-vs.-transformers-agent\", \"content\": \"This article explores the LangChain and Hugging Face's Transformers Agent. Both tools showcase the evolving landscape of AI, promising limitless innovation.\", \"score\": 0.7814534645771144}, {\"title\": \"Top 15 LangChain Alternatives for AI Development in 2024 - n8n Blog\", \"url\": \"https://blog.n8n.io/langchain-alternatives/\", \"content\": \"Pricing: Free and open-source\\nHugging Face Transformers Agent\\nHugging Face Transformers library has introduced an experimental agent system for building AI-powered applications. Transformers agents offer a promising alternative for developers, especially those already familiar with the Hugging Face ecosystem. However, its experimental nature and complexity may make it less suitable for junior devs or rapid prototyping compared to more established frameworks like LangChain.\", \"score\": 0.7726419462686567}, {\"title\": \"[Review] LangChain vs. Huggingface's New Agent System - Reddit\", \"url\": \"https://www.reddit.com/r/aipromptprogramming/comments/13f8gjr/review_langchain_vs_huggingfaces_new_agent_system/\", \"content\": \"LangChain appears more efficient in comparison. It is lighter, more user-friendly, adaptable, and inclusive.\", \"score\": 0.7146534197014925}]]\n",
      "Step 3\n",
      "==================================\u001b[1m Ai Message \u001b[0m==================================\n",
      "\n",
      "[{'text': 'Certainly, I\\'ll revise my answer to the question \"What is LangChain?\" using the new information provided and the ReviseAnswer function.', 'type': 'text'}, {'id': 'toolu_01CFEbqS5KcVvBossFoW7AZc', 'input': {'answer': 'LangChain is an open-source framework designed to simplify the development of applications using large language models (LLMs). It provides a set of tools and abstractions that make it easier to build complex, context-aware AI applications [1].\\n\\nKey features of LangChain include:\\n1. Prompt management and chain of thought capabilities\\n2. Memory mechanisms for maintaining context across interactions\\n3. Integration with various LLMs and external data sources\\n4. Document processing and querying tools\\n\\nLangChain is particularly useful for building chatbots, question-answering systems, and AI agents. It supports both Python and JavaScript/TypeScript, making it accessible to a wide range of developers [2].\\n\\nReal-world applications of LangChain include:\\n1. Customer service automation\\n2. Text summarization for various document types\\n3. Managing guest experiences in self-service accommodations\\n4. Querying tabular data using natural language [3]\\n\\nCompared to other frameworks like Hugging Face Transformers, LangChain focuses on chaining models and external data sources, offering advantages in building complex, context-aware applications. While Hugging Face excels in providing a vast repository of pre-trained models, LangChain shines in application development and deployment [4].', 'reflection': {'missing': \"The revised answer could benefit from more details on LangChain's ecosystem, including related tools like LangSmith and LangGraph. It also lacks information on LangChain's specific advantages in the AI development workflow and its role in reducing hallucinations and improving reliability.\", 'superfluous': 'The comparison with Hugging Face, while informative, might be too specific given the general nature of the question. The list of real-world applications, while relevant, could be condensed to make room for more core information about LangChain itself.'}, 'search_queries': ['LangChain ecosystem and related tools (LangSmith, LangGraph)', \"LangChain's role in improving AI application reliability and reducing hallucinations\", \"LangChain's impact on AI development workflow and productivity\"], 'references': ['https://www.langchain.com/', 'https://www.techtarget.com/searchenterpriseai/definition/LangChain', 'https://airbyte.com/data-engineering-resources/langchain-use-cases', 'https://www.restack.io/docs/langchain-knowledge-langchain-vs-huggingface-comparison']}, 'name': 'ReviseAnswer', 'type': 'tool_use'}]\n",
      "Tool Calls:\n",
      "  ReviseAnswer (toolu_01CFEbqS5KcVvBossFoW7AZc)\n",
      " Call ID: toolu_01CFEbqS5KcVvBossFoW7AZc\n",
      "  Args:\n",
      "    answer: LangChain is an open-source framework designed to simplify the development of applications using large language models (LLMs). It provides a set of tools and abstractions that make it easier to build complex, context-aware AI applications [1].\n",
      "\n",
      "Key features of LangChain include:\n",
      "1. Prompt management and chain of thought capabilities\n",
      "2. Memory mechanisms for maintaining context across interactions\n",
      "3. Integration with various LLMs and external data sources\n",
      "4. Document processing and querying tools\n",
      "\n",
      "LangChain is particularly useful for building chatbots, question-answering systems, and AI agents. It supports both Python and JavaScript/TypeScript, making it accessible to a wide range of developers [2].\n",
      "\n",
      "Real-world applications of LangChain include:\n",
      "1. Customer service automation\n",
      "2. Text summarization for various document types\n",
      "3. Managing guest experiences in self-service accommodations\n",
      "4. Querying tabular data using natural language [3]\n",
      "\n",
      "Compared to other frameworks like Hugging Face Transformers, LangChain focuses on chaining models and external data sources, offering advantages in building complex, context-aware applications. While Hugging Face excels in providing a vast repository of pre-trained models, LangChain shines in application development and deployment [4].\n",
      "    reflection: {'missing': \"The revised answer could benefit from more details on LangChain's ecosystem, including related tools like LangSmith and LangGraph. It also lacks information on LangChain's specific advantages in the AI development workflow and its role in reducing hallucinations and improving reliability.\", 'superfluous': 'The comparison with Hugging Face, while informative, might be too specific given the general nature of the question. The list of real-world applications, while relevant, could be condensed to make room for more core information about LangChain itself.'}\n",
      "    search_queries: ['LangChain ecosystem and related tools (LangSmith, LangGraph)', \"LangChain's role in improving AI application reliability and reducing hallucinations\", \"LangChain's impact on AI development workflow and productivity\"]\n",
      "    references: ['https://www.langchain.com/', 'https://www.techtarget.com/searchenterpriseai/definition/LangChain', 'https://airbyte.com/data-engineering-resources/langchain-use-cases', 'https://www.restack.io/docs/langchain-knowledge-langchain-vs-huggingface-comparison']\n"
     ]
    }
   ],
   "source": [
    "# NBVAL_SKIP\n",
    "\n",
    "llm = ChatAnthropic(model=\"claude-3-opus-20240229\")\n",
    "\n",
    "stream_shortcut(\n",
    "    llm=llm,\n",
    "\tquestion=\"What is LangChain?\",\n",
    "    max_iterations=max_iterations,\n",
    ")"
   ]
  }
 ],
 "metadata": {
  "kernelspec": {
   "display_name": "langgraph-reflection",
   "language": "python",
   "name": "python3"
  },
  "language_info": {
   "codemirror_mode": {
    "name": "ipython",
    "version": 3
   },
   "file_extension": ".py",
   "mimetype": "text/x-python",
   "name": "python",
   "nbconvert_exporter": "python",
   "pygments_lexer": "ipython3",
   "version": "3.11.11"
  }
 },
 "nbformat": 4,
 "nbformat_minor": 2
}
