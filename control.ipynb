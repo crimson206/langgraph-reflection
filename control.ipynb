{
 "cells": [
  {
   "cell_type": "code",
   "execution_count": 15,
   "metadata": {},
   "outputs": [],
   "source": [
    "# For python modules,\n",
    "# Use in dev repository"
   ]
  },
  {
   "cell_type": "code",
   "execution_count": 16,
   "metadata": {},
   "outputs": [],
   "source": [
    "from crimson.file_loader import collect_files"
   ]
  },
  {
   "cell_type": "code",
   "execution_count": 17,
   "metadata": {},
   "outputs": [],
   "source": [
    "def my_editor(text:str)->str:\n",
    "    text = text.replace('..%', '')\n",
    "    return text"
   ]
  },
  {
   "cell_type": "code",
   "execution_count": 18,
   "metadata": {},
   "outputs": [
    {
     "name": "stdout",
     "output_type": "stream",
     "text": [
      "Files collected from ./ to ./flatten\n"
     ]
    }
   ],
   "source": [
    "collect_files(\n",
    "    './',\n",
    "    './flatten',\n",
    "    includes=[\n",
    "        'src/', \n",
    "        'test/',  \n",
    "        'example/', \n",
    "        'pyproject.toml',\n",
    "        ],\n",
    "    excludes=['egg-info', 'cache'],\n",
    "    post_path_editor=my_editor\n",
    ")"
   ]
  }
 ],
 "metadata": {
  "kernelspec": {
   "display_name": "base",
   "language": "python",
   "name": "python3"
  },
  "language_info": {
   "codemirror_mode": {
    "name": "ipython",
    "version": 3
   },
   "file_extension": ".py",
   "mimetype": "text/x-python",
   "name": "python",
   "nbconvert_exporter": "python",
   "pygments_lexer": "ipython3",
   "version": "3.12.2"
  }
 },
 "nbformat": 4,
 "nbformat_minor": 2
}
